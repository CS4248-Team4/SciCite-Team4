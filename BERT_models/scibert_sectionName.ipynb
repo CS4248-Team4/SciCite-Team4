{
  "cells": [
    {
      "cell_type": "code",
      "execution_count": null,
      "metadata": {
        "colab": {
          "base_uri": "https://localhost:8080/"
        },
        "id": "lNwgPtCCgKx2",
        "outputId": "f37245d7-759e-432a-e2cd-eb40cac66c65"
      },
      "outputs": [
        {
          "output_type": "stream",
          "name": "stdout",
          "text": [
            "Mounted at /content/drive\n"
          ]
        }
      ],
      "source": [
        "from google.colab import drive\n",
        "drive.mount('/content/drive')\n"
      ]
    },
    {
      "cell_type": "code",
      "execution_count": null,
      "metadata": {
        "id": "HRqAFLCngHQa"
      },
      "outputs": [],
      "source": [
        "import pandas as pd\n",
        "import re"
      ]
    },
    {
      "cell_type": "code",
      "execution_count": null,
      "metadata": {
        "id": "o7JsW7mtgHQc"
      },
      "outputs": [],
      "source": [
        "train_df = pd.read_csv(\"/content/drive/MyDrive/archive/train.csv\")\n",
        "val_df = pd.read_csv(\"/content/drive/MyDrive/archive/validation.csv\")\n",
        "test_df = pd.read_csv(\"/content/drive/MyDrive/archive/test.csv\")"
      ]
    },
    {
      "cell_type": "code",
      "execution_count": null,
      "metadata": {
        "colab": {
          "base_uri": "https://localhost:8080/"
        },
        "id": "inZOeDvzgHQd",
        "outputId": "121602e1-fa7d-48c3-db0f-9d2f4fbe0008"
      },
      "outputs": [
        {
          "output_type": "execute_result",
          "data": {
            "text/plain": [
              "sectionName\n",
              "Discussion                                                                             1227\n",
              "Introduction                                                                            833\n",
              "Methods                                                                                 789\n",
              "DISCUSSION                                                                              481\n",
              "Results                                                                                 359\n",
              "                                                                                       ... \n",
              "The AP1-Cytokine Transcriptional Network Is Activated by HDAC4 in Denervated Muscle       1\n",
              "6. Selection                                                                              1\n",
              "4.1 Experiment settings                                                                   1\n",
              "7.3. Orographic Precipitation                                                             1\n",
              "4.3. Deceleration of the slow exchanging substrate in the S2→ S3 transition               1\n",
              "Name: count, Length: 1146, dtype: int64"
            ]
          },
          "metadata": {},
          "execution_count": 4
        }
      ],
      "source": [
        "# Calculate frequency table\n",
        "frequency_table = train_df['sectionName'].value_counts()\n",
        "\n",
        "# Print the frequency table\n",
        "frequency_table"
      ]
    },
    {
      "cell_type": "code",
      "execution_count": null,
      "metadata": {
        "id": "G5KAc-uKgHQd"
      },
      "outputs": [],
      "source": [
        "def preprocess_sectionName(sectionName):\n",
        "    sectionName = str(sectionName)\n",
        "    newSectionName = sectionName.lower()\n",
        "\n",
        "    if newSectionName != None:\n",
        "        if \"introduction\" in newSectionName or \"preliminaries\" in newSectionName:\n",
        "            newSectionName = \"introduction\"\n",
        "        elif \"result\" in newSectionName or \"finding\" in newSectionName:\n",
        "            newSectionName = \"results\"\n",
        "        elif \"method\" in newSectionName or \"approach\" in newSectionName:\n",
        "            newSectionName = \"method\"\n",
        "        elif \"discussion\" in newSectionName:\n",
        "            newSectionName = \"discussion\"\n",
        "        elif \"background\" in newSectionName:\n",
        "            newSectionName = \"background\"\n",
        "        elif \"experiment\" in newSectionName or \"setup\" in newSectionName or \"set-up\" in newSectionName or \"set up\" in newSectionName:\n",
        "            newSectionName = \"experiment\"\n",
        "        elif \"related work\" in newSectionName or \"relatedwork\" in newSectionName or \"prior work\" in newSectionName or \"literature review\" in newSectionName:\n",
        "            newSectionName = \"related work\"\n",
        "        elif \"evaluation\" in newSectionName:\n",
        "            newSectionName = \"evaluation\"\n",
        "        elif \"implementation\" in newSectionName:\n",
        "            newSectionName = \"implementation\"\n",
        "        elif \"conclusion\" in newSectionName:\n",
        "            newSectionName = \"conclusion\"\n",
        "        elif \"limitation\" in newSectionName:\n",
        "            newSectionName = \"limitation\"\n",
        "        elif \"appendix\" in newSectionName:\n",
        "            newSectionName = \"appendix\"\n",
        "        elif \"future work\" in newSectionName or \"extension\" in newSectionName:\n",
        "            newSectionName = \"appendix\"\n",
        "        elif \"analysis\" in newSectionName:\n",
        "            newSectionName = \"analysis\"\n",
        "        else:\n",
        "            newSectionName = \"unspecified\"\n",
        "\n",
        "        return newSectionName"
      ]
    },
    {
      "cell_type": "code",
      "execution_count": null,
      "metadata": {
        "colab": {
          "base_uri": "https://localhost:8080/"
        },
        "id": "7iQV94oTgHQe",
        "outputId": "177e9e9c-2707-4953-f9bc-a9cbe7e00e46"
      },
      "outputs": [
        {
          "output_type": "execute_result",
          "data": {
            "text/plain": [
              "sectionName\n",
              "discussion        2009\n",
              "introduction      1686\n",
              "unspecified       1580\n",
              "method            1532\n",
              "results            764\n",
              "experiment         291\n",
              "background         124\n",
              "implementation      68\n",
              "related work        61\n",
              "analysis            22\n",
              "conclusion          20\n",
              "evaluation          18\n",
              "appendix            14\n",
              "limitation           5\n",
              "Name: count, dtype: int64"
            ]
          },
          "metadata": {},
          "execution_count": 6
        }
      ],
      "source": [
        "train_df[\"sectionName\"] = train_df[\"sectionName\"].apply(preprocess_sectionName)\n",
        "val_df[\"sectionName\"] = val_df[\"sectionName\"].apply(preprocess_sectionName)\n",
        "test_df[\"sectionName\"] = test_df[\"sectionName\"].apply(preprocess_sectionName)\n",
        "\n",
        "frequency_table = train_df['sectionName'].value_counts()\n",
        "\n",
        "# Print the frequency table\n",
        "frequency_table"
      ]
    },
    {
      "cell_type": "code",
      "execution_count": null,
      "metadata": {
        "colab": {
          "base_uri": "https://localhost:8080/",
          "height": 211,
          "referenced_widgets": [
            "2e863cb3d7544269a513f6df03ff5a65",
            "ef74c36292424bde92c9b4e7d749786b",
            "961d194c19f54f26824ad10573e11223",
            "822f04c2ddb4425589374dc521a21d13",
            "8adc9b2d1f2d4ead87ec6c7e1bc52db1",
            "b6ccbedfffa8458aa789b137ad63fb57",
            "d7f3423a6d9a4b2ebd395bf76608c89e",
            "04c928286d334628af6ee32ac6bfa4f1",
            "7bbfb87e737e4269bcf5228d15d81c78",
            "c1c466bf7fd84fd880a0ea75da18acf6",
            "75af14f537d6469a8116192d82c52df9",
            "d6ddd3299bdf404e8194593c58a445b9",
            "9f78ac7ea1ab4fdcaa556bb47eeb1ad6",
            "22c1b72a55284139ac14e7613237978a",
            "3fd81d43ab63432488a791847c4739dd",
            "cb9ea0979c4746df8f5e7b0be2bb58f1",
            "42cabb3a613e4da3af252bac2b28758e",
            "f4c52f6e44234fe09d0a2836df75c261",
            "09e26963a40b4cac854b15ab774686e1",
            "8e628ff3b9814dbcb767f23a031b43b7",
            "2208f770752e4b49b30602dd4389bcc7",
            "92e3b4da67ba44558af8a570747d8240",
            "236d1017f9144d10bce60ee267a5c490",
            "30d1c06f535145369e4456c2608479f7",
            "2f71f5148ecc4dacbbdf2e36c8a24990",
            "b345ea5e97ca48b2a9ee91f7bc97d28d",
            "fbdee7950d184598835926bf82472065",
            "fc1e8f65625241a1ba6a8529f5c606df",
            "b79dadf229684dc9ab8f06a441b1e8a3",
            "c989b1b4dd9c40319d1a074b99213f65",
            "2a9e51642671425d8ddd4189726c1816",
            "acfc9bd958f045e691fc84d09b0a6808",
            "d42a694760f34d2aa76544a80a7be0f3"
          ]
        },
        "id": "Vjn8gBUDgHQe",
        "outputId": "bb21f2e6-7c8e-4694-9c38-d2fdcf6724a6"
      },
      "outputs": [
        {
          "output_type": "stream",
          "name": "stderr",
          "text": [
            "/usr/local/lib/python3.10/dist-packages/huggingface_hub/utils/_token.py:88: UserWarning: \n",
            "The secret `HF_TOKEN` does not exist in your Colab secrets.\n",
            "To authenticate with the Hugging Face Hub, create a token in your settings tab (https://huggingface.co/settings/tokens), set it as secret in your Google Colab and restart your session.\n",
            "You will be able to reuse this secret in all of your notebooks.\n",
            "Please note that authentication is recommended but still optional to access public models or datasets.\n",
            "  warnings.warn(\n"
          ]
        },
        {
          "output_type": "display_data",
          "data": {
            "text/plain": [
              "vocab.txt:   0%|          | 0.00/228k [00:00<?, ?B/s]"
            ],
            "application/vnd.jupyter.widget-view+json": {
              "version_major": 2,
              "version_minor": 0,
              "model_id": "2e863cb3d7544269a513f6df03ff5a65"
            }
          },
          "metadata": {}
        },
        {
          "output_type": "display_data",
          "data": {
            "text/plain": [
              "config.json:   0%|          | 0.00/385 [00:00<?, ?B/s]"
            ],
            "application/vnd.jupyter.widget-view+json": {
              "version_major": 2,
              "version_minor": 0,
              "model_id": "d6ddd3299bdf404e8194593c58a445b9"
            }
          },
          "metadata": {}
        },
        {
          "output_type": "display_data",
          "data": {
            "text/plain": [
              "pytorch_model.bin:   0%|          | 0.00/442M [00:00<?, ?B/s]"
            ],
            "application/vnd.jupyter.widget-view+json": {
              "version_major": 2,
              "version_minor": 0,
              "model_id": "236d1017f9144d10bce60ee267a5c490"
            }
          },
          "metadata": {}
        }
      ],
      "source": [
        "import torch\n",
        "from transformers import AutoTokenizer, AutoModelForSequenceClassification, AdamW\n",
        "from sklearn.model_selection import train_test_split\n",
        "from transformers import AutoModel,BertTokenizerFast\n",
        "\n",
        "tokenizer = BertTokenizerFast.from_pretrained(\"allenai/scibert_scivocab_uncased\")\n",
        "bert = AutoModel.from_pretrained(\"allenai/scibert_scivocab_uncased\", num_labels = 3)\n",
        "\n",
        "# import BERT-base pretrained model\n",
        "# bert = AutoModel.from_pretrained('bert-base-uncased')\n",
        "\n",
        "# Load the BERT tokenizer\n",
        "# tokenizer = BertTokenizerFast.from_pretrained('bert-base-uncased')"
      ]
    },
    {
      "cell_type": "code",
      "execution_count": null,
      "metadata": {
        "id": "Qv3NdXwEgHQf"
      },
      "outputs": [],
      "source": [
        "import transformers\n",
        "from transformers import AutoModel,BertTokenizerFast\n",
        "import numpy as np\n",
        "import pandas as pd\n",
        "import torch\n",
        "import torch.nn as nn\n",
        "from sklearn.model_selection import train_test_split\n",
        "from sklearn.metrics import classification_report"
      ]
    },
    {
      "cell_type": "code",
      "execution_count": null,
      "metadata": {
        "id": "VcFkUMIxgHQf"
      },
      "outputs": [],
      "source": [
        "device = torch.device(\"cuda\")"
      ]
    },
    {
      "cell_type": "code",
      "execution_count": null,
      "metadata": {
        "id": "swQwNwzKgHQf"
      },
      "outputs": [],
      "source": [
        "sec_name_mapping = {\"discussion\": 0, \"introduction\": 1, \"unspecified\": 2, \"method\": 3,\n",
        "                    \"results\": 4, \"experiment\": 5, \"background\": 6, \"implementation\": 7,\n",
        "                    \"related work\": 8, \"analysis\": 9, \"conclusion\": 10, \"evaluation\": 11,\n",
        "                    \"appendix\": 12, \"limitation\": 13}"
      ]
    },
    {
      "cell_type": "code",
      "execution_count": null,
      "metadata": {
        "id": "bGHkUblggHQf"
      },
      "outputs": [],
      "source": [
        "train_df_clean = train_df[[\"string\", \"sectionName\", \"label\"]]\n",
        "val_df_clean = val_df[[\"string\", \"sectionName\", \"label\"]]\n",
        "test_df_clean = test_df[[\"string\", \"sectionName\", \"label\"]]"
      ]
    },
    {
      "cell_type": "code",
      "execution_count": null,
      "metadata": {
        "id": "1F97_q28gHQg"
      },
      "outputs": [],
      "source": [
        "train_sec = train_df_clean['sectionName'].tolist()\n",
        "train_sec = [sec_name_mapping[label] for label in train_sec]\n",
        "train_text = train_df_clean['string']\n",
        "train_labels = train_df_clean[\"label\"]\n",
        "\n",
        "val_sec = val_df_clean['sectionName'].tolist()\n",
        "val_sec = [sec_name_mapping[label] for label in val_sec]\n",
        "val_text = val_df_clean['string']\n",
        "val_labels = val_df_clean[\"label\"]\n",
        "\n",
        "test_sec = test_df_clean['sectionName'].tolist()\n",
        "test_sec = [sec_name_mapping[label] for label in test_sec]\n",
        "test_text = test_df_clean['string']\n",
        "test_labels = test_df_clean[\"label\"]"
      ]
    },
    {
      "cell_type": "code",
      "execution_count": null,
      "metadata": {
        "id": "P1eyDenygHQg"
      },
      "outputs": [],
      "source": [
        "max_seq_len = 75"
      ]
    },
    {
      "cell_type": "code",
      "execution_count": null,
      "metadata": {
        "id": "tvREYszQgHQg"
      },
      "outputs": [],
      "source": [
        "# tokenize and encode sequences in the training set\n",
        "tokens_train = tokenizer.batch_encode_plus(\n",
        "    train_text.tolist(),\n",
        "    max_length = max_seq_len,\n",
        "    padding='max_length',\n",
        "    truncation=True,\n",
        "    return_token_type_ids=False\n",
        ")\n",
        "\n",
        "# tokenize and encode sequences in the validation set\n",
        "tokens_val = tokenizer.batch_encode_plus(\n",
        "    val_text.tolist(),\n",
        "    max_length = max_seq_len,\n",
        "    padding='max_length',\n",
        "    truncation=True,\n",
        "    return_token_type_ids=False\n",
        ")\n",
        "\n",
        "# tokenize and encode sequences in the test set\n",
        "tokens_test = tokenizer.batch_encode_plus(\n",
        "    test_text.tolist(),\n",
        "    max_length = max_seq_len,\n",
        "    padding='max_length',\n",
        "    truncation=True,\n",
        "    return_token_type_ids=False\n",
        ")"
      ]
    },
    {
      "cell_type": "code",
      "execution_count": null,
      "metadata": {
        "id": "HRNs7r7VgHQg"
      },
      "outputs": [],
      "source": [
        "# for train set\n",
        "train_seq = torch.tensor(tokens_train['input_ids'])\n",
        "train_mask = torch.tensor(tokens_train['attention_mask'])\n",
        "train_sec = torch.tensor(train_sec)\n",
        "train_y = torch.tensor(train_labels.tolist())\n",
        "\n",
        "# for validation set\n",
        "val_seq = torch.tensor(tokens_val['input_ids'])\n",
        "val_mask = torch.tensor(tokens_val['attention_mask'])\n",
        "val_sec = torch.tensor(val_sec)\n",
        "val_y = torch.tensor(val_labels.tolist())\n",
        "\n",
        "# for test set\n",
        "test_seq = torch.tensor(tokens_test['input_ids'])\n",
        "test_mask = torch.tensor(tokens_test['attention_mask'])\n",
        "test_sec = torch.tensor(test_sec)\n",
        "test_y = torch.tensor(test_labels.tolist())"
      ]
    },
    {
      "cell_type": "code",
      "execution_count": null,
      "metadata": {
        "id": "tp8m5FwmgHQh"
      },
      "outputs": [],
      "source": [
        "from torch.utils.data import TensorDataset, DataLoader, RandomSampler, SequentialSampler\n",
        "\n",
        "#define a batch size\n",
        "batch_size = 32\n",
        "\n",
        "# wrap tensors\n",
        "train_data = TensorDataset(train_seq, train_mask, train_sec, train_y)\n",
        "\n",
        "# sampler for sampling the data during training\n",
        "train_sampler = RandomSampler(train_data)\n",
        "\n",
        "# dataLoader for train set\n",
        "train_dataloader = DataLoader(train_data, sampler=train_sampler, batch_size=batch_size)\n",
        "\n",
        "# wrap tensors\n",
        "val_data = TensorDataset(val_seq, val_mask, val_sec, val_y)\n",
        "\n",
        "# sampler for sampling the data during training\n",
        "val_sampler = SequentialSampler(val_data)\n",
        "\n",
        "# dataLoader for validation set\n",
        "val_dataloader = DataLoader(val_data, sampler = val_sampler, batch_size=batch_size)"
      ]
    },
    {
      "cell_type": "code",
      "execution_count": null,
      "metadata": {
        "id": "h8JPlTHsgHQh"
      },
      "outputs": [],
      "source": [
        "# freeze all the parameters\n",
        "for param in bert.parameters():\n",
        "    param.requires_grad = False"
      ]
    },
    {
      "cell_type": "code",
      "execution_count": null,
      "metadata": {
        "id": "-xSz_pxngHQh"
      },
      "outputs": [],
      "source": [
        "class BERT_Arch(nn.Module):\n",
        "\n",
        "    def __init__(self, bert):\n",
        "\n",
        "        super(BERT_Arch, self).__init__()\n",
        "\n",
        "        self.bert = bert\n",
        "\n",
        "        # dropout layer\n",
        "        self.dropout = nn.Dropout(0.1)\n",
        "\n",
        "        # relu activation function\n",
        "        self.relu =  nn.ReLU()\n",
        "\n",
        "        # dense layer 1\n",
        "        self.fc1 = nn.Linear(768,512)\n",
        "        self.relu =  nn.ReLU()\n",
        "        # dense layer 2 (Output layer)\n",
        "        self.fc2 = nn.Linear(512,3)\n",
        "        self.fc3 = nn.Linear(4,3)\n",
        "\n",
        "        self.softmax = nn.LogSoftmax(dim=1)\n",
        "\n",
        "    #define the forward pass\n",
        "    def forward(self, sent_id, mask, sec):\n",
        "\n",
        "        #pass the inputs to the model\n",
        "        _, cls_hs = self.bert(sent_id, attention_mask=mask, return_dict=False)\n",
        "\n",
        "        x = self.fc1(cls_hs)\n",
        "\n",
        "        x = self.relu(x)\n",
        "\n",
        "        x = self.dropout(x)\n",
        "\n",
        "        # output layer\n",
        "        x = self.fc2(x)\n",
        "\n",
        "        x = torch.cat((x, sec.float().view(-1, 1)), 1)\n",
        "\n",
        "        x = self.fc3(x)\n",
        "\n",
        "        # apply softmax activation\n",
        "        x = self.softmax(x)\n",
        "        return x"
      ]
    },
    {
      "cell_type": "code",
      "execution_count": null,
      "metadata": {
        "id": "_nX0rpCrgHQh"
      },
      "outputs": [],
      "source": [
        "# pass the pre-trained BERT to our define architecture\n",
        "model = BERT_Arch(bert)\n",
        "\n",
        "# push the model to GPU\n",
        "model = model.to(device)"
      ]
    },
    {
      "cell_type": "code",
      "execution_count": null,
      "metadata": {
        "id": "rb3iq9ezgHQi"
      },
      "outputs": [],
      "source": [
        "# optimizer from hugging face transformers\n",
        "from torch.optim import AdamW\n",
        "\n",
        "# define the optimizer\n",
        "optimizer = AdamW(model.parameters(), lr = 1e-3)"
      ]
    },
    {
      "cell_type": "code",
      "execution_count": null,
      "metadata": {
        "id": "3pci28oFgHQi",
        "colab": {
          "base_uri": "https://localhost:8080/"
        },
        "outputId": "7bacf6e4-fef3-4aac-d0a2-e5a9d27a7f27"
      },
      "outputs": [
        {
          "output_type": "stream",
          "name": "stdout",
          "text": [
            "[1.20535452 0.56432507 2.51041667]\n"
          ]
        }
      ],
      "source": [
        "from sklearn.utils.class_weight import compute_class_weight\n",
        "\n",
        "#compute the class weights\n",
        "class_wts = compute_class_weight(class_weight='balanced', classes=np.unique(train_labels), y=train_labels)\n",
        "\n",
        "print(class_wts)"
      ]
    },
    {
      "cell_type": "code",
      "execution_count": null,
      "metadata": {
        "id": "XFeFC9ARgHQi"
      },
      "outputs": [],
      "source": [
        "# convert class weights to tensor\n",
        "weights= torch.tensor(class_wts,dtype=torch.float)\n",
        "weights = weights.to(device)\n",
        "\n",
        "# loss function\n",
        "cross_entropy  = nn.NLLLoss(weight=weights)\n",
        "\n",
        "# number of training epochs\n",
        "epochs = 10"
      ]
    },
    {
      "cell_type": "code",
      "execution_count": null,
      "metadata": {
        "id": "4HTrxa5VhEhO"
      },
      "outputs": [],
      "source": [
        "def train():\n",
        "\n",
        "  model.train()\n",
        "\n",
        "  total_loss, total_accuracy = 0, 0\n",
        "\n",
        "  # empty list to save model predictions\n",
        "  total_preds=[]\n",
        "\n",
        "  # iterate over batches\n",
        "  for step,batch in enumerate(train_dataloader):\n",
        "\n",
        "    # progress update after every 50 batches.\n",
        "    if step % 50 == 0 and not step == 0:\n",
        "      print('  Batch {:>5,}  of  {:>5,}.'.format(step, len(train_dataloader)))\n",
        "\n",
        "    # push the batch to gpu\n",
        "    batch = [r.to(device) for r in batch]\n",
        "\n",
        "    sent_id, mask, sec, labels = batch\n",
        "    # print(sent_id.shape, mask.shape, sec.shape, labels.shape)\n",
        "\n",
        "    # clear previously calculated gradients\n",
        "    model.zero_grad()\n",
        "    # print(sent_id.shape, mask.shape, sec.shape, labels.shape)\n",
        "\n",
        "    # get model predictions for the current batch\n",
        "    preds = model(sent_id, mask, sec)\n",
        "    # print(sent_id.shape, mask.shape, sec.shape, labels.shape)\n",
        "\n",
        "    # compute the loss between actual and predicted values\n",
        "    loss = cross_entropy(preds, labels)\n",
        "\n",
        "    # add on to the total loss\n",
        "    total_loss = total_loss + loss.item()\n",
        "\n",
        "    # backward pass to calculate the gradients\n",
        "    loss.backward()\n",
        "\n",
        "    # clip the the gradients to 1.0. It helps in preventing the exploding gradient problem\n",
        "    torch.nn.utils.clip_grad_norm_(model.parameters(), 1.0)\n",
        "\n",
        "    # update parameters\n",
        "    optimizer.step()\n",
        "\n",
        "    # model predictions are stored on GPU. So, push it to CPU\n",
        "    preds=preds.detach().cpu().numpy()\n",
        "\n",
        "    # append the model predictions\n",
        "    total_preds.append(preds)\n",
        "\n",
        "  # compute the training loss of the epoch\n",
        "  avg_loss = total_loss / len(train_dataloader)\n",
        "\n",
        "  # predictions are in the form of (no. of batches, size of batch, no. of classes).\n",
        "  # reshape the predictions in form of (number of samples, no. of classes)\n",
        "  total_preds = np.concatenate(total_preds, axis=0)\n",
        "\n",
        "  #returns the loss and predictions\n",
        "  print(avg_loss, total_preds)\n",
        "  return avg_loss, total_preds"
      ]
    },
    {
      "cell_type": "code",
      "execution_count": null,
      "metadata": {
        "id": "Y2wHIHb8gHQi"
      },
      "outputs": [],
      "source": [
        "# function for evaluating the model\n",
        "def evaluate():\n",
        "\n",
        "  print(\"\\nEvaluating...\")\n",
        "\n",
        "  # deactivate dropout layers\n",
        "  model.eval()\n",
        "\n",
        "  total_loss, total_accuracy = 0, 0\n",
        "\n",
        "  # empty list to save the model predictions\n",
        "  total_preds = []\n",
        "\n",
        "  # iterate over batches\n",
        "  for step,batch in enumerate(val_dataloader):\n",
        "\n",
        "    # Progress update every 50 batches.\n",
        "    if step % 50 == 0 and not step == 0:\n",
        "\n",
        "      # Calculate elapsed time in minutes.\n",
        "      elapsed = format_time(time.time() - t0)\n",
        "\n",
        "      # Report progress.\n",
        "      print('  Batch {:>5,}  of  {:>5,}.'.format(step, len(val_dataloader)))\n",
        "\n",
        "    # push the batch to gpu\n",
        "    batch = [t.to(device) for t in batch]\n",
        "\n",
        "    sent_id, mask, sec, labels = batch\n",
        "\n",
        "\n",
        "    # deactivate autograd\n",
        "    with torch.no_grad():\n",
        "\n",
        "      # model predictions\n",
        "      preds = model(sent_id, mask, sec)\n",
        "\n",
        "      # compute the validation loss between actual and predicted values\n",
        "      loss = cross_entropy(preds,labels)\n",
        "\n",
        "      total_loss = total_loss + loss.item()\n",
        "\n",
        "      preds = preds.detach().cpu().numpy()\n",
        "\n",
        "      total_preds.append(preds)\n",
        "\n",
        "  # compute the validation loss of the epoch\n",
        "  avg_loss = total_loss / len(val_dataloader)\n",
        "\n",
        "  # reshape the predictions in form of (number of samples, no. of classes)\n",
        "  total_preds  = np.concatenate(total_preds, axis=0)\n",
        "\n",
        "  return avg_loss, total_preds"
      ]
    },
    {
      "cell_type": "code",
      "execution_count": null,
      "metadata": {
        "id": "sLQP-VA_gHQi",
        "colab": {
          "base_uri": "https://localhost:8080/"
        },
        "outputId": "6a45bb01-cd20-4b06-841f-d4851df2c8bc"
      },
      "outputs": [
        {
          "output_type": "stream",
          "name": "stdout",
          "text": [
            "\n",
            " Epoch 1 / 10\n",
            "  Batch    50  of    257.\n",
            "  Batch   100  of    257.\n",
            "  Batch   150  of    257.\n",
            "  Batch   200  of    257.\n",
            "  Batch   250  of    257.\n",
            "0.651564678474391 [[-1.5240364  -0.8136194  -1.0819963 ]\n",
            " [-1.563048   -0.74535334 -1.1522129 ]\n",
            " [-1.3516598  -0.7473183  -1.3184314 ]\n",
            " ...\n",
            " [-3.1132014  -0.04931337 -5.610632  ]\n",
            " [-0.0366329  -3.5261364  -5.028041  ]\n",
            " [-2.7496438  -0.29260486 -1.6621406 ]]\n",
            "\n",
            "Evaluating...\n",
            "\n",
            "Training Loss: 0.652\n",
            "Validation Loss: 0.562\n",
            "\n",
            " Epoch 2 / 10\n",
            "  Batch    50  of    257.\n",
            "  Batch   100  of    257.\n",
            "  Batch   150  of    257.\n",
            "  Batch   200  of    257.\n",
            "  Batch   250  of    257.\n",
            "0.5825513237181341 [[-3.0627367  -0.2680096  -1.6695065 ]\n",
            " [-3.204126   -0.46087456 -1.1126895 ]\n",
            " [-3.7626946  -0.0586579  -3.3887885 ]\n",
            " ...\n",
            " [-2.690574   -0.21055995 -2.103509  ]\n",
            " [-3.0971224  -0.07627849 -3.5662072 ]\n",
            " [-1.8466117  -0.17746116 -5.331733  ]]\n",
            "\n",
            "Evaluating...\n",
            "\n",
            "Training Loss: 0.583\n",
            "Validation Loss: 0.574\n",
            "\n",
            " Epoch 3 / 10\n",
            "  Batch    50  of    257.\n",
            "  Batch   100  of    257.\n",
            "  Batch   150  of    257.\n",
            "  Batch   200  of    257.\n",
            "  Batch   250  of    257.\n",
            "0.56767049686918 [[-1.8489039  -0.33333823 -2.070977  ]\n",
            " [-4.4983377  -3.3999546  -0.045523  ]\n",
            " [-3.088952   -0.14609897 -2.4037528 ]\n",
            " ...\n",
            " [-0.06578022 -2.8839831  -4.859837  ]\n",
            " [-2.4168956  -2.1948187  -0.22386494]\n",
            " [-2.682024   -1.1515354  -0.48544312]]\n",
            "\n",
            "Evaluating...\n",
            "\n",
            "Training Loss: 0.568\n",
            "Validation Loss: 0.634\n",
            "\n",
            " Epoch 4 / 10\n",
            "  Batch    50  of    257.\n",
            "  Batch   100  of    257.\n",
            "  Batch   150  of    257.\n",
            "  Batch   200  of    257.\n",
            "  Batch   250  of    257.\n",
            "0.5494291280842013 [[-1.6618537  -1.1321144  -0.7177222 ]\n",
            " [-0.00682902 -5.409475   -6.061132  ]\n",
            " [-0.53906834 -1.2989969  -1.9386135 ]\n",
            " ...\n",
            " [-1.0404757  -0.57090276 -2.504722  ]\n",
            " [-3.3468864  -0.11030077 -2.6701543 ]\n",
            " [-4.252381   -2.163395   -0.13830225]]\n",
            "\n",
            "Evaluating...\n",
            "\n",
            "Training Loss: 0.549\n",
            "Validation Loss: 0.571\n",
            "\n",
            " Epoch 5 / 10\n",
            "  Batch    50  of    257.\n",
            "  Batch   100  of    257.\n",
            "  Batch   150  of    257.\n",
            "  Batch   200  of    257.\n",
            "  Batch   250  of    257.\n",
            "0.5337033727521563 [[-2.2163835  -0.12823391 -4.478554  ]\n",
            " [-1.5522742  -0.91502506 -0.9474523 ]\n",
            " [-1.5542563  -0.34838215 -2.4910324 ]\n",
            " ...\n",
            " [-1.0965767  -0.60777664 -2.1084409 ]\n",
            " [-2.8419714  -0.30373865 -1.591423  ]\n",
            " [-2.1276107  -0.47375113 -1.3539581 ]]\n",
            "\n",
            "Evaluating...\n",
            "\n",
            "Training Loss: 0.534\n",
            "Validation Loss: 0.549\n",
            "\n",
            " Epoch 6 / 10\n",
            "  Batch    50  of    257.\n",
            "  Batch   100  of    257.\n",
            "  Batch   150  of    257.\n",
            "  Batch   200  of    257.\n",
            "  Batch   250  of    257.\n",
            "0.5324781773039339 [[-2.848956   -0.18611696 -2.1899822 ]\n",
            " [-5.0841365  -2.283063   -0.11447478]\n",
            " [-0.2628005  -1.5953715  -3.5658982 ]\n",
            " ...\n",
            " [-2.299466   -0.19834304 -2.5307524 ]\n",
            " [-5.066533   -3.9914644  -0.02508898]\n",
            " [-1.775759   -0.7470179  -1.0303898 ]]\n",
            "\n",
            "Evaluating...\n",
            "\n",
            "Training Loss: 0.532\n",
            "Validation Loss: 0.567\n",
            "\n",
            " Epoch 7 / 10\n",
            "  Batch    50  of    257.\n",
            "  Batch   100  of    257.\n",
            "  Batch   150  of    257.\n",
            "  Batch   200  of    257.\n",
            "  Batch   250  of    257.\n",
            "0.5251751568182897 [[-0.17775062 -3.162972   -2.1156986 ]\n",
            " [-0.08871312 -3.112047   -3.2093682 ]\n",
            " [-2.390557   -0.112815   -4.1926975 ]\n",
            " ...\n",
            " [-0.03632727 -3.4244435  -5.7737885 ]\n",
            " [-0.03062946 -3.704902   -5.191715  ]\n",
            " [-3.0936518  -0.22764818 -1.8435193 ]]\n",
            "\n",
            "Evaluating...\n",
            "\n",
            "Training Loss: 0.525\n",
            "Validation Loss: 0.571\n",
            "\n",
            " Epoch 8 / 10\n",
            "  Batch    50  of    257.\n",
            "  Batch   100  of    257.\n",
            "  Batch   150  of    257.\n",
            "  Batch   200  of    257.\n",
            "  Batch   250  of    257.\n",
            "0.5230423354685074 [[-6.2578516  -4.0270686  -0.01993934]\n",
            " [-1.7432342  -0.38328826 -1.9419086 ]\n",
            " [-4.577382   -3.5053291  -0.04115389]\n",
            " ...\n",
            " [-5.1762877  -3.577424   -0.03417389]\n",
            " [-0.63057154 -3.592534   -0.8205624 ]\n",
            " [-0.06750126 -2.8337173  -5.039112  ]]\n",
            "\n",
            "Evaluating...\n",
            "\n",
            "Training Loss: 0.523\n",
            "Validation Loss: 0.530\n",
            "\n",
            " Epoch 9 / 10\n",
            "  Batch    50  of    257.\n",
            "  Batch   100  of    257.\n",
            "  Batch   150  of    257.\n",
            "  Batch   200  of    257.\n",
            "  Batch   250  of    257.\n",
            "0.5047512477705914 [[-0.14127319 -2.3649607  -3.2755806 ]\n",
            " [-0.08661193 -2.516358   -6.1130066 ]\n",
            " [-3.5215054  -2.9682965  -0.08441012]\n",
            " ...\n",
            " [-0.2250409  -1.6485715  -4.6894264 ]\n",
            " [-4.2452483  -2.034629   -0.15672532]\n",
            " [-3.8959744  -1.5690441  -0.25950646]]\n",
            "\n",
            "Evaluating...\n",
            "\n",
            "Training Loss: 0.505\n",
            "Validation Loss: 0.535\n",
            "\n",
            " Epoch 10 / 10\n",
            "  Batch    50  of    257.\n",
            "  Batch   100  of    257.\n",
            "  Batch   150  of    257.\n",
            "  Batch   200  of    257.\n",
            "  Batch   250  of    257.\n",
            "0.5146539724406565 [[-2.645534   -1.3686     -0.39368054]\n",
            " [-0.16061148 -1.9157394  -6.773085  ]\n",
            " [-4.6715355  -3.2504919  -0.04930894]\n",
            " ...\n",
            " [-0.2055877  -2.0838807  -2.7905917 ]\n",
            " [-0.02650572 -3.7265673  -6.1743417 ]\n",
            " [-1.1134918  -0.55299765 -2.3395932 ]]\n",
            "\n",
            "Evaluating...\n",
            "\n",
            "Training Loss: 0.515\n",
            "Validation Loss: 0.551\n"
          ]
        }
      ],
      "source": [
        "# set initial loss to infinite\n",
        "best_valid_loss = float('inf')\n",
        "\n",
        "# empty lists to store training and validation loss of each epoch\n",
        "train_losses=[]\n",
        "valid_losses=[]\n",
        "\n",
        "#for each epoch\n",
        "for epoch in range(epochs):\n",
        "\n",
        "    print('\\n Epoch {:} / {:}'.format(epoch + 1, epochs))\n",
        "\n",
        "    #train model\n",
        "    train_loss, _ = train()\n",
        "\n",
        "    #evaluate model\n",
        "    valid_loss, _ = evaluate()\n",
        "\n",
        "    #save the best model\n",
        "    if valid_loss < best_valid_loss:\n",
        "        best_valid_loss = valid_loss\n",
        "        torch.save(model.state_dict(), 'saved_weights.pt')\n",
        "\n",
        "    # append training and validation loss\n",
        "    train_losses.append(train_loss)\n",
        "    valid_losses.append(valid_loss)\n",
        "\n",
        "    print(f'\\nTraining Loss: {train_loss:.3f}')\n",
        "    print(f'Validation Loss: {valid_loss:.3f}')"
      ]
    },
    {
      "cell_type": "code",
      "execution_count": null,
      "metadata": {
        "id": "7wZyLti4gHQj",
        "colab": {
          "base_uri": "https://localhost:8080/"
        },
        "outputId": "0193efb9-8aa2-451f-b539-79b57448f67d"
      },
      "outputs": [
        {
          "output_type": "execute_result",
          "data": {
            "text/plain": [
              "<All keys matched successfully>"
            ]
          },
          "metadata": {},
          "execution_count": 26
        }
      ],
      "source": [
        "path = 'saved_weights.pt'\n",
        "model.load_state_dict(torch.load(path))"
      ]
    },
    {
      "cell_type": "code",
      "execution_count": null,
      "metadata": {
        "id": "Utasgh9_gHQj"
      },
      "outputs": [],
      "source": [
        "# get predictions for test data\n",
        "with torch.no_grad():\n",
        "  preds = model(test_seq.to(device), test_mask.to(device), test_sec.to(device))\n",
        "  preds = preds.detach().cpu().numpy()"
      ]
    },
    {
      "cell_type": "code",
      "execution_count": null,
      "metadata": {
        "id": "8b84w8rNgHQj",
        "colab": {
          "base_uri": "https://localhost:8080/"
        },
        "outputId": "8cfc8a53-1c1e-4202-df65-d9fc522c75aa"
      },
      "outputs": [
        {
          "output_type": "stream",
          "name": "stdout",
          "text": [
            "              precision    recall  f1-score   support\n",
            "\n",
            "           0       0.88      0.85      0.86       604\n",
            "           1       0.91      0.78      0.84       996\n",
            "           2       0.57      0.93      0.71       259\n",
            "\n",
            "    accuracy                           0.82      1859\n",
            "   macro avg       0.78      0.85      0.80      1859\n",
            "weighted avg       0.85      0.82      0.83      1859\n",
            "\n"
          ]
        }
      ],
      "source": [
        "# model's performance\n",
        "preds = np.argmax(preds, axis = 1)\n",
        "print(classification_report(test_y, preds))\n"
      ]
    },
    {
      "cell_type": "code",
      "source": [
        "from sklearn.metrics import f1_score\n",
        "\n",
        "# Assuming y_true and y_pred are your true and predicted labels, respectively\n",
        "micro_f1 = f1_score(test_y, preds, average='micro')\n",
        "\n",
        "print(\"Micro F1 Score:\", micro_f1)"
      ],
      "metadata": {
        "id": "CoG5sLO_kK9U",
        "outputId": "7c580c45-e41b-4d08-95cb-d4d921c0fb1e",
        "colab": {
          "base_uri": "https://localhost:8080/"
        }
      },
      "execution_count": null,
      "outputs": [
        {
          "output_type": "stream",
          "name": "stdout",
          "text": [
            "Micro F1 Score: 0.8208714362560516\n"
          ]
        }
      ]
    },
    {
      "cell_type": "code",
      "source": [
        "macro_f1 = f1_score(test_y, preds, average='macro')\n",
        "\n",
        "print(\"Micro F1 Score:\", macro_f1)"
      ],
      "metadata": {
        "id": "BpBXBrmkkMm2",
        "outputId": "3505bb14-513f-449b-faa6-9af36bfba9c8",
        "colab": {
          "base_uri": "https://localhost:8080/"
        }
      },
      "execution_count": null,
      "outputs": [
        {
          "output_type": "stream",
          "name": "stdout",
          "text": [
            "Micro F1 Score: 0.8018505091139709\n"
          ]
        }
      ]
    }
  ],
  "metadata": {
    "accelerator": "GPU",
    "colab": {
      "gpuType": "T4",
      "provenance": []
    },
    "kernelspec": {
      "display_name": "Python 3",
      "name": "python3"
    },
    "language_info": {
      "codemirror_mode": {
        "name": "ipython",
        "version": 3
      },
      "file_extension": ".py",
      "mimetype": "text/x-python",
      "name": "python",
      "nbconvert_exporter": "python",
      "pygments_lexer": "ipython3",
      "version": "3.11.4"
    },
    "vscode": {
      "interpreter": {
        "hash": "6e10138e559af5604874ea8e7a4bef538a58e646e137cbbee6478eecc45f07b0"
      }
    },
    "widgets": {
      "application/vnd.jupyter.widget-state+json": {
        "2e863cb3d7544269a513f6df03ff5a65": {
          "model_module": "@jupyter-widgets/controls",
          "model_name": "HBoxModel",
          "model_module_version": "1.5.0",
          "state": {
            "_dom_classes": [],
            "_model_module": "@jupyter-widgets/controls",
            "_model_module_version": "1.5.0",
            "_model_name": "HBoxModel",
            "_view_count": null,
            "_view_module": "@jupyter-widgets/controls",
            "_view_module_version": "1.5.0",
            "_view_name": "HBoxView",
            "box_style": "",
            "children": [
              "IPY_MODEL_ef74c36292424bde92c9b4e7d749786b",
              "IPY_MODEL_961d194c19f54f26824ad10573e11223",
              "IPY_MODEL_822f04c2ddb4425589374dc521a21d13"
            ],
            "layout": "IPY_MODEL_8adc9b2d1f2d4ead87ec6c7e1bc52db1"
          }
        },
        "ef74c36292424bde92c9b4e7d749786b": {
          "model_module": "@jupyter-widgets/controls",
          "model_name": "HTMLModel",
          "model_module_version": "1.5.0",
          "state": {
            "_dom_classes": [],
            "_model_module": "@jupyter-widgets/controls",
            "_model_module_version": "1.5.0",
            "_model_name": "HTMLModel",
            "_view_count": null,
            "_view_module": "@jupyter-widgets/controls",
            "_view_module_version": "1.5.0",
            "_view_name": "HTMLView",
            "description": "",
            "description_tooltip": null,
            "layout": "IPY_MODEL_b6ccbedfffa8458aa789b137ad63fb57",
            "placeholder": "​",
            "style": "IPY_MODEL_d7f3423a6d9a4b2ebd395bf76608c89e",
            "value": "vocab.txt: 100%"
          }
        },
        "961d194c19f54f26824ad10573e11223": {
          "model_module": "@jupyter-widgets/controls",
          "model_name": "FloatProgressModel",
          "model_module_version": "1.5.0",
          "state": {
            "_dom_classes": [],
            "_model_module": "@jupyter-widgets/controls",
            "_model_module_version": "1.5.0",
            "_model_name": "FloatProgressModel",
            "_view_count": null,
            "_view_module": "@jupyter-widgets/controls",
            "_view_module_version": "1.5.0",
            "_view_name": "ProgressView",
            "bar_style": "success",
            "description": "",
            "description_tooltip": null,
            "layout": "IPY_MODEL_04c928286d334628af6ee32ac6bfa4f1",
            "max": 227845,
            "min": 0,
            "orientation": "horizontal",
            "style": "IPY_MODEL_7bbfb87e737e4269bcf5228d15d81c78",
            "value": 227845
          }
        },
        "822f04c2ddb4425589374dc521a21d13": {
          "model_module": "@jupyter-widgets/controls",
          "model_name": "HTMLModel",
          "model_module_version": "1.5.0",
          "state": {
            "_dom_classes": [],
            "_model_module": "@jupyter-widgets/controls",
            "_model_module_version": "1.5.0",
            "_model_name": "HTMLModel",
            "_view_count": null,
            "_view_module": "@jupyter-widgets/controls",
            "_view_module_version": "1.5.0",
            "_view_name": "HTMLView",
            "description": "",
            "description_tooltip": null,
            "layout": "IPY_MODEL_c1c466bf7fd84fd880a0ea75da18acf6",
            "placeholder": "​",
            "style": "IPY_MODEL_75af14f537d6469a8116192d82c52df9",
            "value": " 228k/228k [00:00&lt;00:00, 4.02MB/s]"
          }
        },
        "8adc9b2d1f2d4ead87ec6c7e1bc52db1": {
          "model_module": "@jupyter-widgets/base",
          "model_name": "LayoutModel",
          "model_module_version": "1.2.0",
          "state": {
            "_model_module": "@jupyter-widgets/base",
            "_model_module_version": "1.2.0",
            "_model_name": "LayoutModel",
            "_view_count": null,
            "_view_module": "@jupyter-widgets/base",
            "_view_module_version": "1.2.0",
            "_view_name": "LayoutView",
            "align_content": null,
            "align_items": null,
            "align_self": null,
            "border": null,
            "bottom": null,
            "display": null,
            "flex": null,
            "flex_flow": null,
            "grid_area": null,
            "grid_auto_columns": null,
            "grid_auto_flow": null,
            "grid_auto_rows": null,
            "grid_column": null,
            "grid_gap": null,
            "grid_row": null,
            "grid_template_areas": null,
            "grid_template_columns": null,
            "grid_template_rows": null,
            "height": null,
            "justify_content": null,
            "justify_items": null,
            "left": null,
            "margin": null,
            "max_height": null,
            "max_width": null,
            "min_height": null,
            "min_width": null,
            "object_fit": null,
            "object_position": null,
            "order": null,
            "overflow": null,
            "overflow_x": null,
            "overflow_y": null,
            "padding": null,
            "right": null,
            "top": null,
            "visibility": null,
            "width": null
          }
        },
        "b6ccbedfffa8458aa789b137ad63fb57": {
          "model_module": "@jupyter-widgets/base",
          "model_name": "LayoutModel",
          "model_module_version": "1.2.0",
          "state": {
            "_model_module": "@jupyter-widgets/base",
            "_model_module_version": "1.2.0",
            "_model_name": "LayoutModel",
            "_view_count": null,
            "_view_module": "@jupyter-widgets/base",
            "_view_module_version": "1.2.0",
            "_view_name": "LayoutView",
            "align_content": null,
            "align_items": null,
            "align_self": null,
            "border": null,
            "bottom": null,
            "display": null,
            "flex": null,
            "flex_flow": null,
            "grid_area": null,
            "grid_auto_columns": null,
            "grid_auto_flow": null,
            "grid_auto_rows": null,
            "grid_column": null,
            "grid_gap": null,
            "grid_row": null,
            "grid_template_areas": null,
            "grid_template_columns": null,
            "grid_template_rows": null,
            "height": null,
            "justify_content": null,
            "justify_items": null,
            "left": null,
            "margin": null,
            "max_height": null,
            "max_width": null,
            "min_height": null,
            "min_width": null,
            "object_fit": null,
            "object_position": null,
            "order": null,
            "overflow": null,
            "overflow_x": null,
            "overflow_y": null,
            "padding": null,
            "right": null,
            "top": null,
            "visibility": null,
            "width": null
          }
        },
        "d7f3423a6d9a4b2ebd395bf76608c89e": {
          "model_module": "@jupyter-widgets/controls",
          "model_name": "DescriptionStyleModel",
          "model_module_version": "1.5.0",
          "state": {
            "_model_module": "@jupyter-widgets/controls",
            "_model_module_version": "1.5.0",
            "_model_name": "DescriptionStyleModel",
            "_view_count": null,
            "_view_module": "@jupyter-widgets/base",
            "_view_module_version": "1.2.0",
            "_view_name": "StyleView",
            "description_width": ""
          }
        },
        "04c928286d334628af6ee32ac6bfa4f1": {
          "model_module": "@jupyter-widgets/base",
          "model_name": "LayoutModel",
          "model_module_version": "1.2.0",
          "state": {
            "_model_module": "@jupyter-widgets/base",
            "_model_module_version": "1.2.0",
            "_model_name": "LayoutModel",
            "_view_count": null,
            "_view_module": "@jupyter-widgets/base",
            "_view_module_version": "1.2.0",
            "_view_name": "LayoutView",
            "align_content": null,
            "align_items": null,
            "align_self": null,
            "border": null,
            "bottom": null,
            "display": null,
            "flex": null,
            "flex_flow": null,
            "grid_area": null,
            "grid_auto_columns": null,
            "grid_auto_flow": null,
            "grid_auto_rows": null,
            "grid_column": null,
            "grid_gap": null,
            "grid_row": null,
            "grid_template_areas": null,
            "grid_template_columns": null,
            "grid_template_rows": null,
            "height": null,
            "justify_content": null,
            "justify_items": null,
            "left": null,
            "margin": null,
            "max_height": null,
            "max_width": null,
            "min_height": null,
            "min_width": null,
            "object_fit": null,
            "object_position": null,
            "order": null,
            "overflow": null,
            "overflow_x": null,
            "overflow_y": null,
            "padding": null,
            "right": null,
            "top": null,
            "visibility": null,
            "width": null
          }
        },
        "7bbfb87e737e4269bcf5228d15d81c78": {
          "model_module": "@jupyter-widgets/controls",
          "model_name": "ProgressStyleModel",
          "model_module_version": "1.5.0",
          "state": {
            "_model_module": "@jupyter-widgets/controls",
            "_model_module_version": "1.5.0",
            "_model_name": "ProgressStyleModel",
            "_view_count": null,
            "_view_module": "@jupyter-widgets/base",
            "_view_module_version": "1.2.0",
            "_view_name": "StyleView",
            "bar_color": null,
            "description_width": ""
          }
        },
        "c1c466bf7fd84fd880a0ea75da18acf6": {
          "model_module": "@jupyter-widgets/base",
          "model_name": "LayoutModel",
          "model_module_version": "1.2.0",
          "state": {
            "_model_module": "@jupyter-widgets/base",
            "_model_module_version": "1.2.0",
            "_model_name": "LayoutModel",
            "_view_count": null,
            "_view_module": "@jupyter-widgets/base",
            "_view_module_version": "1.2.0",
            "_view_name": "LayoutView",
            "align_content": null,
            "align_items": null,
            "align_self": null,
            "border": null,
            "bottom": null,
            "display": null,
            "flex": null,
            "flex_flow": null,
            "grid_area": null,
            "grid_auto_columns": null,
            "grid_auto_flow": null,
            "grid_auto_rows": null,
            "grid_column": null,
            "grid_gap": null,
            "grid_row": null,
            "grid_template_areas": null,
            "grid_template_columns": null,
            "grid_template_rows": null,
            "height": null,
            "justify_content": null,
            "justify_items": null,
            "left": null,
            "margin": null,
            "max_height": null,
            "max_width": null,
            "min_height": null,
            "min_width": null,
            "object_fit": null,
            "object_position": null,
            "order": null,
            "overflow": null,
            "overflow_x": null,
            "overflow_y": null,
            "padding": null,
            "right": null,
            "top": null,
            "visibility": null,
            "width": null
          }
        },
        "75af14f537d6469a8116192d82c52df9": {
          "model_module": "@jupyter-widgets/controls",
          "model_name": "DescriptionStyleModel",
          "model_module_version": "1.5.0",
          "state": {
            "_model_module": "@jupyter-widgets/controls",
            "_model_module_version": "1.5.0",
            "_model_name": "DescriptionStyleModel",
            "_view_count": null,
            "_view_module": "@jupyter-widgets/base",
            "_view_module_version": "1.2.0",
            "_view_name": "StyleView",
            "description_width": ""
          }
        },
        "d6ddd3299bdf404e8194593c58a445b9": {
          "model_module": "@jupyter-widgets/controls",
          "model_name": "HBoxModel",
          "model_module_version": "1.5.0",
          "state": {
            "_dom_classes": [],
            "_model_module": "@jupyter-widgets/controls",
            "_model_module_version": "1.5.0",
            "_model_name": "HBoxModel",
            "_view_count": null,
            "_view_module": "@jupyter-widgets/controls",
            "_view_module_version": "1.5.0",
            "_view_name": "HBoxView",
            "box_style": "",
            "children": [
              "IPY_MODEL_9f78ac7ea1ab4fdcaa556bb47eeb1ad6",
              "IPY_MODEL_22c1b72a55284139ac14e7613237978a",
              "IPY_MODEL_3fd81d43ab63432488a791847c4739dd"
            ],
            "layout": "IPY_MODEL_cb9ea0979c4746df8f5e7b0be2bb58f1"
          }
        },
        "9f78ac7ea1ab4fdcaa556bb47eeb1ad6": {
          "model_module": "@jupyter-widgets/controls",
          "model_name": "HTMLModel",
          "model_module_version": "1.5.0",
          "state": {
            "_dom_classes": [],
            "_model_module": "@jupyter-widgets/controls",
            "_model_module_version": "1.5.0",
            "_model_name": "HTMLModel",
            "_view_count": null,
            "_view_module": "@jupyter-widgets/controls",
            "_view_module_version": "1.5.0",
            "_view_name": "HTMLView",
            "description": "",
            "description_tooltip": null,
            "layout": "IPY_MODEL_42cabb3a613e4da3af252bac2b28758e",
            "placeholder": "​",
            "style": "IPY_MODEL_f4c52f6e44234fe09d0a2836df75c261",
            "value": "config.json: 100%"
          }
        },
        "22c1b72a55284139ac14e7613237978a": {
          "model_module": "@jupyter-widgets/controls",
          "model_name": "FloatProgressModel",
          "model_module_version": "1.5.0",
          "state": {
            "_dom_classes": [],
            "_model_module": "@jupyter-widgets/controls",
            "_model_module_version": "1.5.0",
            "_model_name": "FloatProgressModel",
            "_view_count": null,
            "_view_module": "@jupyter-widgets/controls",
            "_view_module_version": "1.5.0",
            "_view_name": "ProgressView",
            "bar_style": "success",
            "description": "",
            "description_tooltip": null,
            "layout": "IPY_MODEL_09e26963a40b4cac854b15ab774686e1",
            "max": 385,
            "min": 0,
            "orientation": "horizontal",
            "style": "IPY_MODEL_8e628ff3b9814dbcb767f23a031b43b7",
            "value": 385
          }
        },
        "3fd81d43ab63432488a791847c4739dd": {
          "model_module": "@jupyter-widgets/controls",
          "model_name": "HTMLModel",
          "model_module_version": "1.5.0",
          "state": {
            "_dom_classes": [],
            "_model_module": "@jupyter-widgets/controls",
            "_model_module_version": "1.5.0",
            "_model_name": "HTMLModel",
            "_view_count": null,
            "_view_module": "@jupyter-widgets/controls",
            "_view_module_version": "1.5.0",
            "_view_name": "HTMLView",
            "description": "",
            "description_tooltip": null,
            "layout": "IPY_MODEL_2208f770752e4b49b30602dd4389bcc7",
            "placeholder": "​",
            "style": "IPY_MODEL_92e3b4da67ba44558af8a570747d8240",
            "value": " 385/385 [00:00&lt;00:00, 23.3kB/s]"
          }
        },
        "cb9ea0979c4746df8f5e7b0be2bb58f1": {
          "model_module": "@jupyter-widgets/base",
          "model_name": "LayoutModel",
          "model_module_version": "1.2.0",
          "state": {
            "_model_module": "@jupyter-widgets/base",
            "_model_module_version": "1.2.0",
            "_model_name": "LayoutModel",
            "_view_count": null,
            "_view_module": "@jupyter-widgets/base",
            "_view_module_version": "1.2.0",
            "_view_name": "LayoutView",
            "align_content": null,
            "align_items": null,
            "align_self": null,
            "border": null,
            "bottom": null,
            "display": null,
            "flex": null,
            "flex_flow": null,
            "grid_area": null,
            "grid_auto_columns": null,
            "grid_auto_flow": null,
            "grid_auto_rows": null,
            "grid_column": null,
            "grid_gap": null,
            "grid_row": null,
            "grid_template_areas": null,
            "grid_template_columns": null,
            "grid_template_rows": null,
            "height": null,
            "justify_content": null,
            "justify_items": null,
            "left": null,
            "margin": null,
            "max_height": null,
            "max_width": null,
            "min_height": null,
            "min_width": null,
            "object_fit": null,
            "object_position": null,
            "order": null,
            "overflow": null,
            "overflow_x": null,
            "overflow_y": null,
            "padding": null,
            "right": null,
            "top": null,
            "visibility": null,
            "width": null
          }
        },
        "42cabb3a613e4da3af252bac2b28758e": {
          "model_module": "@jupyter-widgets/base",
          "model_name": "LayoutModel",
          "model_module_version": "1.2.0",
          "state": {
            "_model_module": "@jupyter-widgets/base",
            "_model_module_version": "1.2.0",
            "_model_name": "LayoutModel",
            "_view_count": null,
            "_view_module": "@jupyter-widgets/base",
            "_view_module_version": "1.2.0",
            "_view_name": "LayoutView",
            "align_content": null,
            "align_items": null,
            "align_self": null,
            "border": null,
            "bottom": null,
            "display": null,
            "flex": null,
            "flex_flow": null,
            "grid_area": null,
            "grid_auto_columns": null,
            "grid_auto_flow": null,
            "grid_auto_rows": null,
            "grid_column": null,
            "grid_gap": null,
            "grid_row": null,
            "grid_template_areas": null,
            "grid_template_columns": null,
            "grid_template_rows": null,
            "height": null,
            "justify_content": null,
            "justify_items": null,
            "left": null,
            "margin": null,
            "max_height": null,
            "max_width": null,
            "min_height": null,
            "min_width": null,
            "object_fit": null,
            "object_position": null,
            "order": null,
            "overflow": null,
            "overflow_x": null,
            "overflow_y": null,
            "padding": null,
            "right": null,
            "top": null,
            "visibility": null,
            "width": null
          }
        },
        "f4c52f6e44234fe09d0a2836df75c261": {
          "model_module": "@jupyter-widgets/controls",
          "model_name": "DescriptionStyleModel",
          "model_module_version": "1.5.0",
          "state": {
            "_model_module": "@jupyter-widgets/controls",
            "_model_module_version": "1.5.0",
            "_model_name": "DescriptionStyleModel",
            "_view_count": null,
            "_view_module": "@jupyter-widgets/base",
            "_view_module_version": "1.2.0",
            "_view_name": "StyleView",
            "description_width": ""
          }
        },
        "09e26963a40b4cac854b15ab774686e1": {
          "model_module": "@jupyter-widgets/base",
          "model_name": "LayoutModel",
          "model_module_version": "1.2.0",
          "state": {
            "_model_module": "@jupyter-widgets/base",
            "_model_module_version": "1.2.0",
            "_model_name": "LayoutModel",
            "_view_count": null,
            "_view_module": "@jupyter-widgets/base",
            "_view_module_version": "1.2.0",
            "_view_name": "LayoutView",
            "align_content": null,
            "align_items": null,
            "align_self": null,
            "border": null,
            "bottom": null,
            "display": null,
            "flex": null,
            "flex_flow": null,
            "grid_area": null,
            "grid_auto_columns": null,
            "grid_auto_flow": null,
            "grid_auto_rows": null,
            "grid_column": null,
            "grid_gap": null,
            "grid_row": null,
            "grid_template_areas": null,
            "grid_template_columns": null,
            "grid_template_rows": null,
            "height": null,
            "justify_content": null,
            "justify_items": null,
            "left": null,
            "margin": null,
            "max_height": null,
            "max_width": null,
            "min_height": null,
            "min_width": null,
            "object_fit": null,
            "object_position": null,
            "order": null,
            "overflow": null,
            "overflow_x": null,
            "overflow_y": null,
            "padding": null,
            "right": null,
            "top": null,
            "visibility": null,
            "width": null
          }
        },
        "8e628ff3b9814dbcb767f23a031b43b7": {
          "model_module": "@jupyter-widgets/controls",
          "model_name": "ProgressStyleModel",
          "model_module_version": "1.5.0",
          "state": {
            "_model_module": "@jupyter-widgets/controls",
            "_model_module_version": "1.5.0",
            "_model_name": "ProgressStyleModel",
            "_view_count": null,
            "_view_module": "@jupyter-widgets/base",
            "_view_module_version": "1.2.0",
            "_view_name": "StyleView",
            "bar_color": null,
            "description_width": ""
          }
        },
        "2208f770752e4b49b30602dd4389bcc7": {
          "model_module": "@jupyter-widgets/base",
          "model_name": "LayoutModel",
          "model_module_version": "1.2.0",
          "state": {
            "_model_module": "@jupyter-widgets/base",
            "_model_module_version": "1.2.0",
            "_model_name": "LayoutModel",
            "_view_count": null,
            "_view_module": "@jupyter-widgets/base",
            "_view_module_version": "1.2.0",
            "_view_name": "LayoutView",
            "align_content": null,
            "align_items": null,
            "align_self": null,
            "border": null,
            "bottom": null,
            "display": null,
            "flex": null,
            "flex_flow": null,
            "grid_area": null,
            "grid_auto_columns": null,
            "grid_auto_flow": null,
            "grid_auto_rows": null,
            "grid_column": null,
            "grid_gap": null,
            "grid_row": null,
            "grid_template_areas": null,
            "grid_template_columns": null,
            "grid_template_rows": null,
            "height": null,
            "justify_content": null,
            "justify_items": null,
            "left": null,
            "margin": null,
            "max_height": null,
            "max_width": null,
            "min_height": null,
            "min_width": null,
            "object_fit": null,
            "object_position": null,
            "order": null,
            "overflow": null,
            "overflow_x": null,
            "overflow_y": null,
            "padding": null,
            "right": null,
            "top": null,
            "visibility": null,
            "width": null
          }
        },
        "92e3b4da67ba44558af8a570747d8240": {
          "model_module": "@jupyter-widgets/controls",
          "model_name": "DescriptionStyleModel",
          "model_module_version": "1.5.0",
          "state": {
            "_model_module": "@jupyter-widgets/controls",
            "_model_module_version": "1.5.0",
            "_model_name": "DescriptionStyleModel",
            "_view_count": null,
            "_view_module": "@jupyter-widgets/base",
            "_view_module_version": "1.2.0",
            "_view_name": "StyleView",
            "description_width": ""
          }
        },
        "236d1017f9144d10bce60ee267a5c490": {
          "model_module": "@jupyter-widgets/controls",
          "model_name": "HBoxModel",
          "model_module_version": "1.5.0",
          "state": {
            "_dom_classes": [],
            "_model_module": "@jupyter-widgets/controls",
            "_model_module_version": "1.5.0",
            "_model_name": "HBoxModel",
            "_view_count": null,
            "_view_module": "@jupyter-widgets/controls",
            "_view_module_version": "1.5.0",
            "_view_name": "HBoxView",
            "box_style": "",
            "children": [
              "IPY_MODEL_30d1c06f535145369e4456c2608479f7",
              "IPY_MODEL_2f71f5148ecc4dacbbdf2e36c8a24990",
              "IPY_MODEL_b345ea5e97ca48b2a9ee91f7bc97d28d"
            ],
            "layout": "IPY_MODEL_fbdee7950d184598835926bf82472065"
          }
        },
        "30d1c06f535145369e4456c2608479f7": {
          "model_module": "@jupyter-widgets/controls",
          "model_name": "HTMLModel",
          "model_module_version": "1.5.0",
          "state": {
            "_dom_classes": [],
            "_model_module": "@jupyter-widgets/controls",
            "_model_module_version": "1.5.0",
            "_model_name": "HTMLModel",
            "_view_count": null,
            "_view_module": "@jupyter-widgets/controls",
            "_view_module_version": "1.5.0",
            "_view_name": "HTMLView",
            "description": "",
            "description_tooltip": null,
            "layout": "IPY_MODEL_fc1e8f65625241a1ba6a8529f5c606df",
            "placeholder": "​",
            "style": "IPY_MODEL_b79dadf229684dc9ab8f06a441b1e8a3",
            "value": "pytorch_model.bin: 100%"
          }
        },
        "2f71f5148ecc4dacbbdf2e36c8a24990": {
          "model_module": "@jupyter-widgets/controls",
          "model_name": "FloatProgressModel",
          "model_module_version": "1.5.0",
          "state": {
            "_dom_classes": [],
            "_model_module": "@jupyter-widgets/controls",
            "_model_module_version": "1.5.0",
            "_model_name": "FloatProgressModel",
            "_view_count": null,
            "_view_module": "@jupyter-widgets/controls",
            "_view_module_version": "1.5.0",
            "_view_name": "ProgressView",
            "bar_style": "success",
            "description": "",
            "description_tooltip": null,
            "layout": "IPY_MODEL_c989b1b4dd9c40319d1a074b99213f65",
            "max": 442221694,
            "min": 0,
            "orientation": "horizontal",
            "style": "IPY_MODEL_2a9e51642671425d8ddd4189726c1816",
            "value": 442221694
          }
        },
        "b345ea5e97ca48b2a9ee91f7bc97d28d": {
          "model_module": "@jupyter-widgets/controls",
          "model_name": "HTMLModel",
          "model_module_version": "1.5.0",
          "state": {
            "_dom_classes": [],
            "_model_module": "@jupyter-widgets/controls",
            "_model_module_version": "1.5.0",
            "_model_name": "HTMLModel",
            "_view_count": null,
            "_view_module": "@jupyter-widgets/controls",
            "_view_module_version": "1.5.0",
            "_view_name": "HTMLView",
            "description": "",
            "description_tooltip": null,
            "layout": "IPY_MODEL_acfc9bd958f045e691fc84d09b0a6808",
            "placeholder": "​",
            "style": "IPY_MODEL_d42a694760f34d2aa76544a80a7be0f3",
            "value": " 442M/442M [00:02&lt;00:00, 179MB/s]"
          }
        },
        "fbdee7950d184598835926bf82472065": {
          "model_module": "@jupyter-widgets/base",
          "model_name": "LayoutModel",
          "model_module_version": "1.2.0",
          "state": {
            "_model_module": "@jupyter-widgets/base",
            "_model_module_version": "1.2.0",
            "_model_name": "LayoutModel",
            "_view_count": null,
            "_view_module": "@jupyter-widgets/base",
            "_view_module_version": "1.2.0",
            "_view_name": "LayoutView",
            "align_content": null,
            "align_items": null,
            "align_self": null,
            "border": null,
            "bottom": null,
            "display": null,
            "flex": null,
            "flex_flow": null,
            "grid_area": null,
            "grid_auto_columns": null,
            "grid_auto_flow": null,
            "grid_auto_rows": null,
            "grid_column": null,
            "grid_gap": null,
            "grid_row": null,
            "grid_template_areas": null,
            "grid_template_columns": null,
            "grid_template_rows": null,
            "height": null,
            "justify_content": null,
            "justify_items": null,
            "left": null,
            "margin": null,
            "max_height": null,
            "max_width": null,
            "min_height": null,
            "min_width": null,
            "object_fit": null,
            "object_position": null,
            "order": null,
            "overflow": null,
            "overflow_x": null,
            "overflow_y": null,
            "padding": null,
            "right": null,
            "top": null,
            "visibility": null,
            "width": null
          }
        },
        "fc1e8f65625241a1ba6a8529f5c606df": {
          "model_module": "@jupyter-widgets/base",
          "model_name": "LayoutModel",
          "model_module_version": "1.2.0",
          "state": {
            "_model_module": "@jupyter-widgets/base",
            "_model_module_version": "1.2.0",
            "_model_name": "LayoutModel",
            "_view_count": null,
            "_view_module": "@jupyter-widgets/base",
            "_view_module_version": "1.2.0",
            "_view_name": "LayoutView",
            "align_content": null,
            "align_items": null,
            "align_self": null,
            "border": null,
            "bottom": null,
            "display": null,
            "flex": null,
            "flex_flow": null,
            "grid_area": null,
            "grid_auto_columns": null,
            "grid_auto_flow": null,
            "grid_auto_rows": null,
            "grid_column": null,
            "grid_gap": null,
            "grid_row": null,
            "grid_template_areas": null,
            "grid_template_columns": null,
            "grid_template_rows": null,
            "height": null,
            "justify_content": null,
            "justify_items": null,
            "left": null,
            "margin": null,
            "max_height": null,
            "max_width": null,
            "min_height": null,
            "min_width": null,
            "object_fit": null,
            "object_position": null,
            "order": null,
            "overflow": null,
            "overflow_x": null,
            "overflow_y": null,
            "padding": null,
            "right": null,
            "top": null,
            "visibility": null,
            "width": null
          }
        },
        "b79dadf229684dc9ab8f06a441b1e8a3": {
          "model_module": "@jupyter-widgets/controls",
          "model_name": "DescriptionStyleModel",
          "model_module_version": "1.5.0",
          "state": {
            "_model_module": "@jupyter-widgets/controls",
            "_model_module_version": "1.5.0",
            "_model_name": "DescriptionStyleModel",
            "_view_count": null,
            "_view_module": "@jupyter-widgets/base",
            "_view_module_version": "1.2.0",
            "_view_name": "StyleView",
            "description_width": ""
          }
        },
        "c989b1b4dd9c40319d1a074b99213f65": {
          "model_module": "@jupyter-widgets/base",
          "model_name": "LayoutModel",
          "model_module_version": "1.2.0",
          "state": {
            "_model_module": "@jupyter-widgets/base",
            "_model_module_version": "1.2.0",
            "_model_name": "LayoutModel",
            "_view_count": null,
            "_view_module": "@jupyter-widgets/base",
            "_view_module_version": "1.2.0",
            "_view_name": "LayoutView",
            "align_content": null,
            "align_items": null,
            "align_self": null,
            "border": null,
            "bottom": null,
            "display": null,
            "flex": null,
            "flex_flow": null,
            "grid_area": null,
            "grid_auto_columns": null,
            "grid_auto_flow": null,
            "grid_auto_rows": null,
            "grid_column": null,
            "grid_gap": null,
            "grid_row": null,
            "grid_template_areas": null,
            "grid_template_columns": null,
            "grid_template_rows": null,
            "height": null,
            "justify_content": null,
            "justify_items": null,
            "left": null,
            "margin": null,
            "max_height": null,
            "max_width": null,
            "min_height": null,
            "min_width": null,
            "object_fit": null,
            "object_position": null,
            "order": null,
            "overflow": null,
            "overflow_x": null,
            "overflow_y": null,
            "padding": null,
            "right": null,
            "top": null,
            "visibility": null,
            "width": null
          }
        },
        "2a9e51642671425d8ddd4189726c1816": {
          "model_module": "@jupyter-widgets/controls",
          "model_name": "ProgressStyleModel",
          "model_module_version": "1.5.0",
          "state": {
            "_model_module": "@jupyter-widgets/controls",
            "_model_module_version": "1.5.0",
            "_model_name": "ProgressStyleModel",
            "_view_count": null,
            "_view_module": "@jupyter-widgets/base",
            "_view_module_version": "1.2.0",
            "_view_name": "StyleView",
            "bar_color": null,
            "description_width": ""
          }
        },
        "acfc9bd958f045e691fc84d09b0a6808": {
          "model_module": "@jupyter-widgets/base",
          "model_name": "LayoutModel",
          "model_module_version": "1.2.0",
          "state": {
            "_model_module": "@jupyter-widgets/base",
            "_model_module_version": "1.2.0",
            "_model_name": "LayoutModel",
            "_view_count": null,
            "_view_module": "@jupyter-widgets/base",
            "_view_module_version": "1.2.0",
            "_view_name": "LayoutView",
            "align_content": null,
            "align_items": null,
            "align_self": null,
            "border": null,
            "bottom": null,
            "display": null,
            "flex": null,
            "flex_flow": null,
            "grid_area": null,
            "grid_auto_columns": null,
            "grid_auto_flow": null,
            "grid_auto_rows": null,
            "grid_column": null,
            "grid_gap": null,
            "grid_row": null,
            "grid_template_areas": null,
            "grid_template_columns": null,
            "grid_template_rows": null,
            "height": null,
            "justify_content": null,
            "justify_items": null,
            "left": null,
            "margin": null,
            "max_height": null,
            "max_width": null,
            "min_height": null,
            "min_width": null,
            "object_fit": null,
            "object_position": null,
            "order": null,
            "overflow": null,
            "overflow_x": null,
            "overflow_y": null,
            "padding": null,
            "right": null,
            "top": null,
            "visibility": null,
            "width": null
          }
        },
        "d42a694760f34d2aa76544a80a7be0f3": {
          "model_module": "@jupyter-widgets/controls",
          "model_name": "DescriptionStyleModel",
          "model_module_version": "1.5.0",
          "state": {
            "_model_module": "@jupyter-widgets/controls",
            "_model_module_version": "1.5.0",
            "_model_name": "DescriptionStyleModel",
            "_view_count": null,
            "_view_module": "@jupyter-widgets/base",
            "_view_module_version": "1.2.0",
            "_view_name": "StyleView",
            "description_width": ""
          }
        }
      }
    }
  },
  "nbformat": 4,
  "nbformat_minor": 0
}